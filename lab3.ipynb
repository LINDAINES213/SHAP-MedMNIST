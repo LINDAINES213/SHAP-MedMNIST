{
 "cells": [
  {
   "cell_type": "code",
   "execution_count": 1,
   "id": "initial_id",
   "metadata": {
    "collapsed": true
   },
   "outputs": [
    {
     "name": "stderr",
     "output_type": "stream",
     "text": [
      "c:\\Users\\lijv1.LINDA_HP\\Documents\\GitHub\\SHAP-MedMNIST\\.venv\\Lib\\site-packages\\tqdm\\auto.py:21: TqdmWarning: IProgress not found. Please update jupyter and ipywidgets. See https://ipywidgets.readthedocs.io/en/stable/user_install.html\n",
      "  from .autonotebook import tqdm as notebook_tqdm\n"
     ]
    }
   ],
   "source": [
    "# ========= 1) Setup =========\n",
    "# Install required libraries if needed\n",
    "# !pip install medmnist torch torchvision shap matplotlib\n",
    "\n",
    "import torch\n",
    "import torchvision.transforms as transforms\n",
    "import matplotlib.pyplot as plt\n",
    "import shap\n",
    "import numpy as np\n",
    "import random\n",
    "import os\n",
    "\n",
    "import medmnist\n",
    "from medmnist import INFO"
   ]
  },
  {
   "cell_type": "code",
   "execution_count": 2,
   "id": "83e1965412fe82a3",
   "metadata": {},
   "outputs": [
    {
     "name": "stdout",
     "output_type": "stream",
     "text": [
      "Dataset: The PathMNIST is based on a prior study for predicting survival from colorectal cancer histology slides, providing a dataset (NCT-CRC-HE-100K) of 100,000 non-overlapping image patches from hematoxylin & eosin stained histological images, and a test dataset (CRC-VAL-HE-7K) of 7,180 image patches from a different clinical center. The dataset is comprised of 9 types of tissues, resulting in a multi-class classification task. We resize the source images of 3×224×224 into 3×28×28, and split NCT-CRC-HE-100K into training and validation set with a ratio of 9:1. The CRC-VAL-HE-7K is treated as the test set.\n",
      "Task: multi-class, Classes: 9\n",
      "Classes: {0: 'adipose', 1: 'background', 2: 'debris', 3: 'lymphocytes', 4: 'mucus', 5: 'smooth muscle', 6: 'normal colon mucosa', 7: 'cancer-associated stroma', 8: 'colorectal adenocarcinoma epithelium'}\n"
     ]
    }
   ],
   "source": [
    "# ========= 2) Dataset Info =========\n",
    "data_flag = 'pathmnist'\n",
    "download = True\n",
    "\n",
    "info = INFO[data_flag]\n",
    "n_classes = len(info['label'])\n",
    "id2label = {int(k): v for k, v in info['label'].items()}\n",
    "\n",
    "print(f\"Dataset: {info['description']}\")\n",
    "print(f\"Task: {info['task']}, Classes: {n_classes}\")\n",
    "print(\"Classes:\", id2label)"
   ]
  },
  {
   "cell_type": "code",
   "execution_count": 3,
   "id": "7b5d33628073a26e",
   "metadata": {},
   "outputs": [
    {
     "name": "stderr",
     "output_type": "stream",
     "text": [
      "C:\\Users\\lijv1.LINDA_HP\\AppData\\Local\\Temp\\ipykernel_35580\\3842754038.py:20: DeprecationWarning: Conversion of an array with ndim > 0 to a scalar is deprecated, and will error in future. Ensure you extract a single element from your array before performing this operation. (Deprecated NumPy 1.25.)\n",
      "  axs[i].set_title(f\"{id2label[int(label)]}\")  # ✅ cast label to int\n",
      "Clipping input data to the valid range for imshow with RGB data ([0..1] for floats or [0..255] for integers). Got range [-0.6313726..0.84313726].\n",
      "Clipping input data to the valid range for imshow with RGB data ([0..1] for floats or [0..255] for integers). Got range [-0.372549..0.85882354].\n",
      "Clipping input data to the valid range for imshow with RGB data ([0..1] for floats or [0..255] for integers). Got range [-0.32549018..0.8352941].\n",
      "Clipping input data to the valid range for imshow with RGB data ([0..1] for floats or [0..255] for integers). Got range [-0.44313723..0.90588236].\n"
     ]
    },
    {
     "name": "stdout",
     "output_type": "stream",
     "text": [
      "Train size: 89996  Test size: 7180\n"
     ]
    },
    {
     "data": {
      "image/png": "[encoded data removed]",
      "text/plain": [
       "<Figure size 1000x200 with 5 Axes>"
      ]
     },
     "metadata": {},
     "output_type": "display_data"
    }
   ],
   "source": [
    "# ========= 3) Load dataset =========\n",
    "DataClass = getattr(medmnist, info['python_class'])\n",
    "\n",
    "transform = transforms.Compose([\n",
    "    transforms.ToTensor(),\n",
    "    transforms.Normalize(mean=[.5], std=[.5])\n",
    "])\n",
    "\n",
    "train_dataset = DataClass(split='train', transform=transform, download=download)\n",
    "test_dataset  = DataClass(split='test', transform=transform, download=download)\n",
    "\n",
    "print(\"Train size:\", len(train_dataset), \" Test size:\", len(test_dataset))\n",
    "\n",
    "# Show 5 sample images\n",
    "fig, axs = plt.subplots(1, 5, figsize=(10, 2))\n",
    "for i in range(5):\n",
    "    img, label = train_dataset[i]\n",
    "    img = img.numpy()\n",
    "    axs[i].imshow(np.transpose(img, (1, 2, 0)).squeeze(), cmap=\"gray\")\n",
    "    axs[i].set_title(f\"{id2label[int(label)]}\")  # ✅ cast label to int\n",
    "    axs[i].axis(\"off\")\n",
    "plt.show()"
   ]
  },
  {
   "cell_type": "code",
   "execution_count": 4,
   "id": "bcdca4bb7e963e56",
   "metadata": {},
   "outputs": [
    {
     "name": "stdout",
     "output_type": "stream",
     "text": [
      "Model class defined and ready.\n"
     ]
    }
   ],
   "source": [
    "# ========= 4) Define Simple CNN Model (already provided) =========\n",
    "import torch.nn as nn\n",
    "import torch.nn.functional as F\n",
    "\n",
    "class SimpleCNN(nn.Module):\n",
    "    def __init__(self, n_channels, n_classes):\n",
    "        super(SimpleCNN, self).__init__()\n",
    "        self.conv1 = nn.Conv2d(n_channels, 16, kernel_size=3, padding=1)\n",
    "        self.pool = nn.MaxPool2d(2, 2)\n",
    "        self.fc1 = nn.Linear(16*14*14, n_classes)\n",
    "\n",
    "    def forward(self, x):\n",
    "        x = self.pool(F.relu(self.conv1(x)))\n",
    "        x = x.reshape(x.size(0), -1)\n",
    "        x = self.fc1(x)\n",
    "        return x\n",
    "\n",
    "model = SimpleCNN(info['n_channels'], n_classes)\n",
    "device = torch.device(\"cuda\" if torch.cuda.is_available() else \"cpu\")\n",
    "model.to(device)\n",
    "\n",
    "print(\"Model class defined and ready.\")"
   ]
  },
  {
   "cell_type": "code",
   "execution_count": 5,
   "id": "2719121bf5fd15d7",
   "metadata": {},
   "outputs": [
    {
     "name": "stdout",
     "output_type": "stream",
     "text": [
      "Pretrained model loaded successfully!\n"
     ]
    }
   ],
   "source": [
    "# ========= 5) Load Pretrained Model =========\n",
    "MODEL_PATH = \"pathmnist_simplecnn.pth\"\n",
    "\n",
    "model.load_state_dict(torch.load(MODEL_PATH, map_location=device))\n",
    "model.eval()\n",
    "\n",
    "print(\"Pretrained model loaded successfully!\")"
   ]
  },
  {
   "cell_type": "code",
   "execution_count": 6,
   "id": "797a7e1b04643317",
   "metadata": {},
   "outputs": [
    {
     "name": "stderr",
     "output_type": "stream",
     "text": [
      "C:\\Users\\lijv1.LINDA_HP\\AppData\\Local\\Temp\\ipykernel_35580\\402144953.py:64: DeprecationWarning: Conversion of an array with ndim > 0 to a scalar is deprecated, and will error in future. Ensure you extract a single element from your array before performing this operation. (Deprecated NumPy 1.25.)\n",
      "  true_idx = int(sample_label)\n"
     ]
    },
    {
     "name": "stdout",
     "output_type": "stream",
     "text": [
      "Predicción: normal colon mucosa (p = 70.86%)\n",
      "Etiqueta real: colorectal adenocarcinoma epithelium\n",
      "Top-3: [('normal colon mucosa', 0.7085862755775452), ('colorectal adenocarcinoma epithelium', 0.24647419154644012), ('debris', 0.03077833727002144)]\n"
     ]
    },
    {
     "data": {
      "image/png": "[encoded data removed]",
      "text/plain": [
       "<Figure size 600x300 with 3 Axes>"
      ]
     },
     "metadata": {},
     "output_type": "display_data"
    }
   ],
   "source": [
    "# ========= 6) Predictions + SHAP Explanations =========\n",
    "# In this cell, you will:\n",
    "#   1. Write a helper function so SHAP can call the model\n",
    "#   2. Pick one test image and predict its class\n",
    "#   3. Compare prediction vs. true label\n",
    "#   4. Use SHAP to explain WHY the model made that prediction\n",
    "#   5. Visualize the results\n",
    "\n",
    "# --- Step 1: Helper function for SHAP ---\n",
    "# TODO: Implement model_forward(x)\n",
    "# HINT: x will come as a numpy array with shape (N, H, W, C).\n",
    "#       Convert it to a torch tensor (N, C, H, W), run through the model,\n",
    "#       return probabilities as numpy.\n",
    "def model_forward(x: np.ndarray) -> np.ndarray:\n",
    "    model.eval()\n",
    "    with torch.no_grad():\n",
    "        if isinstance(x, list):\n",
    "            x = np.stack(x, axis=0)\n",
    "        x = x.astype(np.float32)\n",
    "\n",
    "        # Si viene en [0,255], escalar a [0,1]\n",
    "        if x.max() > 1.0:\n",
    "            x = x / 255.0\n",
    "\n",
    "        # Asegurar dimensión batch\n",
    "        if x.ndim == 3:\n",
    "            x = x[None, ...]  # (1,H,W,C)\n",
    "\n",
    "        # Alinear canales esperados vs. provistos\n",
    "        if x.shape[-1] != info['n_channels']:\n",
    "            if x.shape[-1] == 1 and info['n_channels'] == 3:\n",
    "                x = np.repeat(x, 3, axis=-1)  # gris -> RGB\n",
    "            elif x.shape[-1] == 3 and info['n_channels'] == 1:\n",
    "                x = x[..., :1]                # RGB -> gris\n",
    "            else:\n",
    "                raise ValueError(f\"Se esperaban {info['n_channels']} canales, llegó {x.shape[-1]}.\")\n",
    "\n",
    "        # HWC -> CHW y normalización (mean=0.5, std=0.5)\n",
    "        x_t = torch.from_numpy(x).permute(0, 3, 1, 2)\n",
    "        x_t = (x_t - 0.5) / 0.5\n",
    "        x_t = x_t.to(device)\n",
    "\n",
    "        logits = model(x_t)\n",
    "        probs = F.softmax(logits, dim=1).cpu().numpy()  # <-- línea correcta\n",
    "    return probs\n",
    "\n",
    "# --- Step 2: Pick one test image ---\n",
    "# TODO: Select an image from test_dataset\n",
    "# HINT: take sample_img, sample_label = test_dataset[0] (or a random index)\n",
    "# TODO: Predict class probabilities using the model\n",
    "# TODO: Print predicted class (with probability) and true label\n",
    "# (use id2label to show class names)\n",
    "\n",
    "idx = 0  # puedes cambiar a otro índice o usar np.random.randint(len(test_dataset))\n",
    "sample_img_t, sample_label = test_dataset[idx]        # sample_img_t: (C,H,W) normalizada\n",
    "x_batch = sample_img_t.unsqueeze(0).to(device)        # (1,C,H,W)\n",
    "\n",
    "model.eval()\n",
    "with torch.no_grad():\n",
    "    logits = model(x_batch)\n",
    "    probs_pt = F.softmax(logits, dim=1).squeeze(0).cpu().numpy()\n",
    "\n",
    "pred_idx = int(probs_pt.argmax())\n",
    "true_idx = int(sample_label)\n",
    "print(f\"Predicción: {id2label[pred_idx]} (p = {probs_pt[pred_idx]:.2%})\")\n",
    "print(f\"Etiqueta real: {id2label[true_idx]}\")\n",
    "\n",
    "# (Opcional) Top-3\n",
    "top3 = probs_pt.argsort()[-3:][::-1]\n",
    "print(\"Top-3:\", [(id2label[int(i)], float(probs_pt[i])) for i in top3])\n",
    "\n",
    "\n",
    "# --- Step 3: Prepare image for SHAP ---\n",
    "# TODO: Convert the image into numpy format (H, W, C)\n",
    "# HINT: remember test_dataset gives (C, H, W), so you might need np.transpose\n",
    "sample_img_np = sample_img_t.permute(1, 2, 0).cpu().numpy().astype(np.float32)  # (H,W,C) en [-1,1]\n",
    "sample_img_np = (sample_img_np * 0.5) + 0.5                                     # -> [0,1]\n",
    "sample_img_np = np.clip(sample_img_np, 0.0, 1.0)\n",
    "\n",
    "# --- Step 4: Create SHAP explainer ---\n",
    "# TODO: Create a masker for images\n",
    "# HINT: shap.maskers.Image(\"blur(28,28)\", img_np.shape)\n",
    "# TODO: Create an Explainer with (model_forward, masker)\n",
    "# TODO: Run explainer on your selected image\n",
    "# Asegurar probas y clase predicha (por si no quedó en el Step 2)\n",
    "probs = model_forward(sample_img_np[np.newaxis, ...])[0]\n",
    "pred_idx = int(probs.argmax())\n",
    "\n",
    "# 4.1) Masker de imagen (usar desenfoque sobre patches)\n",
    "# Nota: usa el tamaño de la imagen; para PathMNIST es 28x28 (y 3 canales)\n",
    "masker = shap.maskers.Image(\"blur(28,28)\", sample_img_np.shape)\n",
    "\n",
    "# 4.2) Explainer modelo-agnóstico\n",
    "class_names = [id2label[i] for i in range(n_classes)]\n",
    "explainer = shap.Explainer(model_forward, masker, output_names=class_names)\n",
    "\n",
    "# 4.3) Ejecutar el explainer sobre la imagen seleccionada\n",
    "explanation = explainer(sample_img_np[np.newaxis, ...], max_evals=1000, batch_size=50)\n",
    "\n",
    "# --- Step 5: Visualize ---\n",
    "# TODO: Plot the original image and the SHAP heatmap side by side\n",
    "# HINT: use matplotlib subplots\n",
    "vals = explanation.values  # esperado: (1, H, W, C, n_classes) o (1, H, W, C)\n",
    "if vals.ndim == 5:\n",
    "    shap_map = vals[0, :, :, :, pred_idx]   # (H, W, C) para la clase predicha\n",
    "elif vals.ndim == 4:\n",
    "    shap_map = vals[0]                      # (H, W, C)\n",
    "else:\n",
    "    raise ValueError(f\"Dimensión inesperada en explanation.values: {vals.shape}\")\n",
    "\n",
    "# Agregar canales para un mapa 2D \n",
    "shap_2d = shap_map.sum(axis=2)\n",
    "v = float(np.abs(shap_2d).max()) + 1e-12   \n",
    "fig, axs = plt.subplots(1, 2, figsize=(6, 3))\n",
    "\n",
    "# Imagen original\n",
    "axs[0].imshow(sample_img_np.squeeze(), cmap=\"gray\" if sample_img_np.shape[2] == 1 else None)\n",
    "axs[0].set_title(\"Imagen\")\n",
    "axs[0].axis(\"off\")\n",
    "\n",
    "# Overlay: imagen + heatmap SHAP\n",
    "axs[1].imshow(sample_img_np.squeeze(), cmap=\"gray\" if sample_img_np.shape[2] == 1 else None)\n",
    "hm = axs[1].imshow(shap_2d, cmap=\"seismic\", alpha=0.6, vmin=-v, vmax=v)\n",
    "axs[1].set_title(f\"SHAP — {id2label[pred_idx]}\")\n",
    "axs[1].axis(\"off\")\n",
    "\n",
    "cbar = fig.colorbar(hm, ax=axs[1], fraction=0.046, pad=0.04)\n",
    "cbar.set_label(\"Contribución SHAP\")\n",
    "\n",
    "plt.tight_layout()\n",
    "plt.show()"
   ]
  },
  {
   "cell_type": "code",
   "execution_count": 7,
   "id": "b12c639e2c494b8f",
   "metadata": {},
   "outputs": [],
   "source": [
    "# ========= 7) Extension: Multiple Images =========\n",
    "# TODO: Loop over 5 random test images\n",
    "# For each:\n",
    "#   - Show original image with true label\n",
    "#   - Predict with the model and show predicted label + probability\n",
    "#   - Plot SHAP heatmap for predicted class\n",
    "# HINT: Use matplotlib with 2 rows and 5 columns"
   ]
  },
  {
   "cell_type": "code",
   "execution_count": 8,
   "id": "1e3dff50fe712537",
   "metadata": {},
   "outputs": [],
   "source": [
    "# ========= 8) Reflection =========\n",
    "# Answer in text (Markdown or comments):\n",
    "# 1. Why did the model predict this class?\n",
    "# 2. Are the SHAP heatmaps focusing on meaningful regions?\n",
    "# 3. What differences do you see between correct and incorrect predictions?\n",
    "# 4. How could interpretability help improve this model?"
   ]
  },
  {
   "cell_type": "code",
   "execution_count": null,
   "id": "a49b33cbfc8c9bcb",
   "metadata": {},
   "outputs": [],
   "source": []
  }
 ],
 "metadata": {
  "kernelspec": {
   "display_name": ".venv",
   "language": "python",
   "name": "python3"
  },
  "language_info": {
   "codemirror_mode": {
    "name": "ipython",
    "version": 3
   },
   "file_extension": ".py",
   "mimetype": "text/x-python",
   "name": "python",
   "nbconvert_exporter": "python",
   "pygments_lexer": "ipython3",
   "version": "3.11.9"
  }
 },
 "nbformat": 4,
 "nbformat_minor": 5
}
